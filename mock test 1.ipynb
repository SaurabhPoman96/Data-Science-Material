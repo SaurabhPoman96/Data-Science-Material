{
 "cells": [
  {
   "cell_type": "code",
   "execution_count": 2,
   "id": "17967750",
   "metadata": {},
   "outputs": [
    {
     "data": {
      "text/plain": [
       "'MY NAME IS JOHN'"
      ]
     },
     "execution_count": 2,
     "metadata": {},
     "output_type": "execute_result"
    }
   ],
   "source": [
    "str1 = \"my name is john\"\n",
    "str1.upper()\n"
   ]
  },
  {
   "cell_type": "code",
   "execution_count": 3,
   "id": "be0f5b23",
   "metadata": {},
   "outputs": [
    {
     "data": {
      "text/plain": [
       "'my name is john'"
      ]
     },
     "execution_count": 3,
     "metadata": {},
     "output_type": "execute_result"
    }
   ],
   "source": [
    "str1.lower()"
   ]
  },
  {
   "cell_type": "code",
   "execution_count": 4,
   "id": "326e4c61",
   "metadata": {},
   "outputs": [
    {
     "data": {
      "text/plain": [
       "2"
      ]
     },
     "execution_count": 4,
     "metadata": {},
     "output_type": "execute_result"
    }
   ],
   "source": [
    "str1.find(' ')"
   ]
  },
  {
   "cell_type": "code",
   "execution_count": null,
   "id": "34677208",
   "metadata": {},
   "outputs": [],
   "source": [
    "str1.ti"
   ]
  },
  {
   "cell_type": "code",
   "execution_count": 5,
   "id": "a9bd99b2",
   "metadata": {},
   "outputs": [
    {
     "data": {
      "text/plain": [
       "6"
      ]
     },
     "execution_count": 5,
     "metadata": {},
     "output_type": "execute_result"
    }
   ],
   "source": [
    "str2 = 'AAAAAAaaaaaaazzzzzzz'\n",
    "str2.count('A')"
   ]
  },
  {
   "cell_type": "code",
   "execution_count": 6,
   "id": "28def992",
   "metadata": {},
   "outputs": [
    {
     "data": {
      "text/plain": [
       "1"
      ]
     },
     "execution_count": 6,
     "metadata": {},
     "output_type": "execute_result"
    }
   ],
   "source": [
    "str2.count('Aa')"
   ]
  },
  {
   "cell_type": "code",
   "execution_count": 10,
   "id": "12960d6e",
   "metadata": {},
   "outputs": [],
   "source": [
    "x = 'velocity'"
   ]
  },
  {
   "cell_type": "code",
   "execution_count": 12,
   "id": "2f918fcf",
   "metadata": {},
   "outputs": [
    {
     "name": "stdout",
     "output_type": "stream",
     "text": [
      "v\n",
      "e\n",
      "l\n",
      "o\n",
      "c\n",
      "i\n",
      "t\n",
      "y\n"
     ]
    }
   ],
   "source": [
    "for char in (x):\n",
    "    print(char)"
   ]
  },
  {
   "cell_type": "code",
   "execution_count": 14,
   "id": "8ee2d293",
   "metadata": {},
   "outputs": [
    {
     "data": {
      "text/plain": [
       "'ity'"
      ]
     },
     "execution_count": 14,
     "metadata": {},
     "output_type": "execute_result"
    }
   ],
   "source": [
    "x[5:len(x)]"
   ]
  },
  {
   "cell_type": "code",
   "execution_count": null,
   "id": "8b2a2723",
   "metadata": {},
   "outputs": [],
   "source": []
  }
 ],
 "metadata": {
  "kernelspec": {
   "display_name": "Python 3 (ipykernel)",
   "language": "python",
   "name": "python3"
  },
  "language_info": {
   "codemirror_mode": {
    "name": "ipython",
    "version": 3
   },
   "file_extension": ".py",
   "mimetype": "text/x-python",
   "name": "python",
   "nbconvert_exporter": "python",
   "pygments_lexer": "ipython3",
   "version": "3.10.5"
  }
 },
 "nbformat": 4,
 "nbformat_minor": 5
}
