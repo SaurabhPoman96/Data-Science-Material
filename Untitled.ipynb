{
 "cells": [
  {
   "cell_type": "code",
   "execution_count": 2,
   "id": "5f74710e",
   "metadata": {},
   "outputs": [
    {
     "name": "stdout",
     "output_type": "stream",
     "text": [
      "enter your age25\n",
      "you are eligible\n"
     ]
    }
   ],
   "source": [
    "age = int(input('enter your age'))\n",
    "if age>=18:\n",
    "    print('you are eligible')\n",
    "else:\n",
    "    print('you r not eligible')"
   ]
  },
  {
   "cell_type": "code",
   "execution_count": 5,
   "id": "5675430e",
   "metadata": {},
   "outputs": [
    {
     "name": "stdout",
     "output_type": "stream",
     "text": [
      "enter your age11\n",
      "you r not eligible\n"
     ]
    }
   ],
   "source": [
    "age = input('enter your age')\n",
    "if int(age)>=18:\n",
    "    print('you are eligible')\n",
    "else:\n",
    "    print('you r not eligible')"
   ]
  },
  {
   "cell_type": "code",
   "execution_count": 4,
   "id": "b84ebdd7",
   "metadata": {},
   "outputs": [
    {
     "name": "stdout",
     "output_type": "stream",
     "text": [
      "enter your age28\n",
      "you are eligible\n"
     ]
    }
   ],
   "source": [
    "age = int(input('enter your age'))\n",
    "print('you are eligible') if age>=18 else print('you r not eligible')\n",
    "    \n"
   ]
  },
  {
   "cell_type": "code",
   "execution_count": null,
   "id": "529e990f",
   "metadata": {},
   "outputs": [],
   "source": [
    "#First 100 units                                               no charge\n",
    "Next 100 units                                              Rs 5 per unit\n",
    "After 200 units                                             Rs 10 per unit\n",
    "(For example if input unit is 350 than total bill amount is Rs2000)"
   ]
  },
  {
   "cell_type": "code",
   "execution_count": 16,
   "id": "8e91464a",
   "metadata": {},
   "outputs": [
    {
     "name": "stdout",
     "output_type": "stream",
     "text": [
      "Enter units :350\n",
      "charge = 2000\n"
     ]
    }
   ],
   "source": [
    "units = int(input('Enter units :'))\n",
    "if units<=100:\n",
    "    print('no charge')\n",
    "elif units>100 and units<=200:\n",
    "    print('charge =' ,(units-100)*5)\n",
    "elif units >= 200:\n",
    "    print('charge =' ,-(500-(units-100)*10))"
   ]
  },
  {
   "cell_type": "code",
   "execution_count": 19,
   "id": "ff3a2867",
   "metadata": {},
   "outputs": [
    {
     "name": "stdout",
     "output_type": "stream",
     "text": [
      "101\n"
     ]
    }
   ],
   "source": [
    "if True:     \n",
    "        print(101)    \n",
    "else:\n",
    "    print(202)"
   ]
  },
  {
   "cell_type": "code",
   "execution_count": 4,
   "id": "3263237b",
   "metadata": {},
   "outputs": [
    {
     "name": "stdout",
     "output_type": "stream",
     "text": [
      "1 5 3\n"
     ]
    }
   ],
   "source": [
    "a,b='15'\n",
    "c,d='34'\n",
    "print(a,b,c)"
   ]
  },
  {
   "cell_type": "code",
   "execution_count": 4,
   "id": "74d08179",
   "metadata": {},
   "outputs": [
    {
     "name": "stdout",
     "output_type": "stream",
     "text": [
      "15\n",
      "25\n",
      "45\n"
     ]
    }
   ],
   "source": [
    "def my_function(x):\n",
    "    return 5 * x\n",
    "\n",
    "print(my_function(3))\n",
    "print(my_function(5))\n",
    "print(my_function(9))"
   ]
  },
  {
   "cell_type": "code",
   "execution_count": 5,
   "id": "19d01615",
   "metadata": {},
   "outputs": [
    {
     "ename": "NameError",
     "evalue": "name 'x' is not defined",
     "output_type": "error",
     "traceback": [
      "\u001b[1;31m---------------------------------------------------------------------------\u001b[0m",
      "\u001b[1;31mNameError\u001b[0m                                 Traceback (most recent call last)",
      "Cell \u001b[1;32mIn[5], line 1\u001b[0m\n\u001b[1;32m----> 1\u001b[0m \u001b[43mx\u001b[49m\n",
      "\u001b[1;31mNameError\u001b[0m: name 'x' is not defined"
     ]
    }
   ],
   "source": []
  },
  {
   "cell_type": "code",
   "execution_count": null,
   "id": "92eddc19",
   "metadata": {},
   "outputs": [],
   "source": []
  }
 ],
 "metadata": {
  "kernelspec": {
   "display_name": "Python 3 (ipykernel)",
   "language": "python",
   "name": "python3"
  },
  "language_info": {
   "codemirror_mode": {
    "name": "ipython",
    "version": 3
   },
   "file_extension": ".py",
   "mimetype": "text/x-python",
   "name": "python",
   "nbconvert_exporter": "python",
   "pygments_lexer": "ipython3",
   "version": "3.11.4"
  }
 },
 "nbformat": 4,
 "nbformat_minor": 5
}
