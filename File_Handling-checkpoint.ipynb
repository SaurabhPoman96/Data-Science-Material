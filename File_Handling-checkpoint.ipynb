{
 "cells": [
  {
   "cell_type": "markdown",
   "id": "721c0332",
   "metadata": {},
   "source": [
    "# File Handling"
   ]
  },
  {
   "cell_type": "code",
   "execution_count": null,
   "id": "b5b599eb",
   "metadata": {},
   "outputs": [],
   "source": [
    "Text\n",
    "JSON\n",
    "Model (ML,DL)\n",
    "Obj "
   ]
  },
  {
   "cell_type": "markdown",
   "id": "b14901f7",
   "metadata": {},
   "source": [
    "# File Operations"
   ]
  },
  {
   "cell_type": "code",
   "execution_count": null,
   "id": "3b5e09f8",
   "metadata": {},
   "outputs": [],
   "source": [
    "1. read\n",
    "2. write\n",
    "3. append"
   ]
  },
  {
   "cell_type": "markdown",
   "id": "f717b8d0",
   "metadata": {},
   "source": [
    "# open()"
   ]
  },
  {
   "cell_type": "code",
   "execution_count": null,
   "id": "125bcd28",
   "metadata": {},
   "outputs": [],
   "source": [
    "open(file_name, mode) # default value is 'r'\n",
    "modes:\n",
    "    1. read >> 'r'\n",
    "    2. write >> 'w'\n",
    "    3. write >> 'x'\n",
    "    4. append >> 'a'\n",
    "    5. readbytes >> 'rb'\n",
    "    6. writebytes >> 'wb'"
   ]
  },
  {
   "cell_type": "markdown",
   "id": "aa72c43c",
   "metadata": {},
   "source": [
    "# 1. write"
   ]
  },
  {
   "cell_type": "code",
   "execution_count": 1,
   "id": "8a4e5c06",
   "metadata": {},
   "outputs": [],
   "source": [
    "# write >> 'w'\n",
    "# It will create a text file, if not exists\n",
    "# It will overwrite a text, if file already exists\n",
    "\n",
    "# filename >> \n",
    "# open('sample.txt', 'w')\n",
    "\n",
    "file = open('sample.txt', 'w')\n",
    "file.write('We are learning Python and Data Science')\n",
    "file.close()"
   ]
  },
  {
   "cell_type": "code",
   "execution_count": 2,
   "id": "98490aef",
   "metadata": {},
   "outputs": [],
   "source": [
    "file = open('data.txt', 'x')\n",
    "file.write('Machine Learning')\n",
    "file.close()"
   ]
  },
  {
   "cell_type": "code",
   "execution_count": 4,
   "id": "0e080c9c",
   "metadata": {},
   "outputs": [],
   "source": [
    "file = open('data.txt', 'w')\n",
    "file.write('Deep Learning')\n",
    "file.close()"
   ]
  },
  {
   "cell_type": "code",
   "execution_count": 5,
   "id": "e4cccd00",
   "metadata": {},
   "outputs": [],
   "source": [
    "file = open('sample.txt', 'w')\n",
    "file.write('\\n Hi, Python and DS')\n",
    "file.close()"
   ]
  },
  {
   "cell_type": "code",
   "execution_count": 6,
   "id": "85d86cd4",
   "metadata": {},
   "outputs": [],
   "source": [
    "text = '''Machine learning is a subfield of artificial intelligence,\n",
    "which is broadly defined as the capability of a machine to imitate intelligent human behavior. \n",
    "Artificial intelligence systems are used to perform complex tasks in a way that is similar to how humans solve problems.'''\n",
    "\n",
    "file = open('sample.txt', 'w')\n",
    "file.write(text)\n",
    "file.close()"
   ]
  },
  {
   "cell_type": "code",
   "execution_count": 7,
   "id": "af462788",
   "metadata": {},
   "outputs": [],
   "source": [
    "file_name = 'pythonfile.txt'\n",
    "file = open(file_name, 'w')\n",
    "file.write('******************Python**********************')\n",
    "file.close()"
   ]
  },
  {
   "cell_type": "markdown",
   "id": "ebe20040",
   "metadata": {},
   "source": [
    "# 2. append"
   ]
  },
  {
   "cell_type": "code",
   "execution_count": null,
   "id": "a9b5c617",
   "metadata": {},
   "outputs": [],
   "source": [
    "append >> 'a'\n",
    "Create a new file, if not exists\n",
    "Add text in existing file, if the file already exists"
   ]
  },
  {
   "cell_type": "code",
   "execution_count": 6,
   "id": "ecc89b98",
   "metadata": {},
   "outputs": [],
   "source": [
    "text1 = '''Data science is the domain of study that deals with vast volumes of data using modern tools and\n",
    "techniques to find unseen patterns, derive meaningful information,\n",
    "and make business decisions. Data science uses complex machine learning algorithms to build predictive models.'''\n",
    "\n",
    "file_name = 'data_science.txt'\n",
    "file = open(file_name,'a')\n",
    "file.write(text1)\n",
    "file.close()"
   ]
  },
  {
   "cell_type": "code",
   "execution_count": 11,
   "id": "b0f794de",
   "metadata": {},
   "outputs": [],
   "source": [
    "text3 = '\\n The data used for analysis can come from many different sources and presented in various formats.'\n",
    "file_name = 'data_science.txt'\n",
    "file = open(file_name,'a')\n",
    "file.write(text3)\n",
    "file.close()"
   ]
  },
  {
   "cell_type": "code",
   "execution_count": 12,
   "id": "03890e90",
   "metadata": {},
   "outputs": [],
   "source": [
    "text4 = '\\n ***************Data Science***********************'\n",
    "file_name = 'data_science.txt'\n",
    "file = open(file_name,'a')\n",
    "file.write(text4)\n",
    "file.close()"
   ]
  },
  {
   "cell_type": "code",
   "execution_count": 14,
   "id": "bb131221",
   "metadata": {},
   "outputs": [
    {
     "data": {
      "text/plain": [
       "7"
      ]
     },
     "execution_count": 14,
     "metadata": {},
     "output_type": "execute_result"
    }
   ],
   "source": [
    "text5 = '\\n hello'\n",
    "file_name = 'data_science.txt'\n",
    "file = open(file_name,'a')\n",
    "file.write(text5)"
   ]
  },
  {
   "cell_type": "code",
   "execution_count": 19,
   "id": "e0c07f33",
   "metadata": {},
   "outputs": [],
   "source": [
    "text6 = '\\n ***************************************************'\n",
    "file_name = 'data_science.txt'\n",
    "file = open(file_name,'a')\n",
    "file.write(text6)\n",
    "file.close()"
   ]
  },
  {
   "cell_type": "code",
   "execution_count": 21,
   "id": "87e9bb62",
   "metadata": {},
   "outputs": [],
   "source": [
    "text8 = '\\n *********************DS , ML, DL******************************'\n",
    "file_name = 'data_science.txt'\n",
    "file = open(file_name,'a')\n",
    "file.write(text8)\n",
    "file.close()"
   ]
  },
  {
   "cell_type": "code",
   "execution_count": 22,
   "id": "60ef4784",
   "metadata": {},
   "outputs": [
    {
     "ename": "ValueError",
     "evalue": "I/O operation on closed file.",
     "output_type": "error",
     "traceback": [
      "\u001b[1;31m---------------------------------------------------------------------------\u001b[0m",
      "\u001b[1;31mValueError\u001b[0m                                Traceback (most recent call last)",
      "\u001b[1;32mC:\\Users\\SUCHIT~1.BER\\AppData\\Local\\Temp/ipykernel_70148/3362385683.py\u001b[0m in \u001b[0;36m<module>\u001b[1;34m\u001b[0m\n\u001b[1;32m----> 1\u001b[1;33m \u001b[0mfile\u001b[0m\u001b[1;33m.\u001b[0m\u001b[0mwrite\u001b[0m\u001b[1;33m(\u001b[0m\u001b[1;34m'\\n Hello'\u001b[0m\u001b[1;33m)\u001b[0m\u001b[1;33m\u001b[0m\u001b[1;33m\u001b[0m\u001b[0m\n\u001b[0m",
      "\u001b[1;31mValueError\u001b[0m: I/O operation on closed file."
     ]
    }
   ],
   "source": [
    "file.write('\\n Hello')"
   ]
  },
  {
   "cell_type": "code",
   "execution_count": 23,
   "id": "b92ee8e8",
   "metadata": {},
   "outputs": [],
   "source": [
    "file = open('sample1.txt', 'w')\n",
    "file.write('Machine and Deep learning')\n",
    "file.close()"
   ]
  },
  {
   "cell_type": "code",
   "execution_count": 24,
   "id": "25cd8acd",
   "metadata": {},
   "outputs": [],
   "source": [
    "file = open('sample1.txt','a')\n",
    "file.write('\\b Hello')\n",
    "file.close()"
   ]
  },
  {
   "cell_type": "code",
   "execution_count": 26,
   "id": "114cd666",
   "metadata": {},
   "outputs": [
    {
     "data": {
      "text/plain": [
       "31"
      ]
     },
     "execution_count": 26,
     "metadata": {},
     "output_type": "execute_result"
    }
   ],
   "source": [
    "file = open('sample1.txt','a')\n",
    "file.write('\\n We are learning File handling')\n",
    "file.write('\\n We are learning File handling')\n",
    "file.write('\\n We are learning File handling')\n",
    "file.write('\\n We are learning File handling')"
   ]
  },
  {
   "cell_type": "code",
   "execution_count": 27,
   "id": "b50831c3",
   "metadata": {},
   "outputs": [],
   "source": [
    "file.close()"
   ]
  },
  {
   "cell_type": "code",
   "execution_count": 28,
   "id": "5312ac78",
   "metadata": {
    "scrolled": true
   },
   "outputs": [
    {
     "ename": "ValueError",
     "evalue": "I/O operation on closed file.",
     "output_type": "error",
     "traceback": [
      "\u001b[1;31m---------------------------------------------------------------------------\u001b[0m",
      "\u001b[1;31mValueError\u001b[0m                                Traceback (most recent call last)",
      "\u001b[1;32mC:\\Users\\SUCHIT~1.BER\\AppData\\Local\\Temp/ipykernel_70148/4124887828.py\u001b[0m in \u001b[0;36m<module>\u001b[1;34m\u001b[0m\n\u001b[1;32m----> 1\u001b[1;33m \u001b[0mfile\u001b[0m\u001b[1;33m.\u001b[0m\u001b[0mwrite\u001b[0m\u001b[1;33m(\u001b[0m\u001b[1;34m'\\n We are learning File handling'\u001b[0m\u001b[1;33m)\u001b[0m\u001b[1;33m\u001b[0m\u001b[1;33m\u001b[0m\u001b[0m\n\u001b[0m",
      "\u001b[1;31mValueError\u001b[0m: I/O operation on closed file."
     ]
    }
   ],
   "source": [
    "file.write('\\n We are learning File handling')"
   ]
  },
  {
   "cell_type": "markdown",
   "id": "d63e4307",
   "metadata": {},
   "source": [
    "# 3.read"
   ]
  },
  {
   "cell_type": "code",
   "execution_count": null,
   "id": "a4505da7",
   "metadata": {},
   "outputs": [],
   "source": [
    "read >> 'r'\n",
    "default mode\n",
    "Used to read content of text file"
   ]
  },
  {
   "cell_type": "code",
   "execution_count": 29,
   "id": "19e2a520",
   "metadata": {},
   "outputs": [
    {
     "name": "stdout",
     "output_type": "stream",
     "text": [
      "Data science is the domain of study that deals with vast volumes of data using modern tools and\n",
      "techniques to find unseen patterns, derive meaningful information,\n",
      "and make business decisions. Data science uses complex machine learning algorithms to build predictive models.Data science is the domain of study that deals with vast volumes of data using modern tools and\n",
      "techniques to find unseen patterns, derive meaningful information,\n",
      "and make business decisions. Data science uses complex machine learning algorithms to build predictive models.The data used for analysis can come from many different sources and presented in various formats.\n",
      " The data used for analysis can come from many different sources and presented in various formats.\n",
      " ***************Data Science***********************\n",
      " hello\n",
      " hello\n",
      " hello\n",
      " hello\n",
      " hello\n",
      " ***************************************************\n",
      " ***************************************************\n",
      " ***************************************************\n",
      "###################\n",
      "###################\n",
      "###################\n",
      "###################\n",
      " *********************DS , ML, DL******************************\n"
     ]
    }
   ],
   "source": [
    "f = open('data_science.txt','r')\n",
    "data = f.read()\n",
    "f.close()\n",
    "\n",
    "print(data)"
   ]
  },
  {
   "cell_type": "code",
   "execution_count": 30,
   "id": "5c3a09df",
   "metadata": {},
   "outputs": [
    {
     "name": "stdout",
     "output_type": "stream",
     "text": [
      "******************Python**********************\n"
     ]
    }
   ],
   "source": [
    "f = open('pythonfile.txt','r')\n",
    "data = f.read()\n",
    "f.close()\n",
    "\n",
    "print(data)"
   ]
  },
  {
   "cell_type": "code",
   "execution_count": 31,
   "id": "d70870de",
   "metadata": {},
   "outputs": [
    {
     "name": "stdout",
     "output_type": "stream",
     "text": [
      "Machine learning is a subfield of artificial intelligence,\n",
      "which is broadly defined as the capability of a machine to imitate intelligent human behavior. \n",
      "Artificial intelligence systems are used to perform complex tasks in a way that is similar to how humans solve problems.\n"
     ]
    }
   ],
   "source": [
    "\n",
    "f = open('sample.txt','r')\n",
    "data = f.read()\n",
    "f.close()\n",
    "\n",
    "print(data)"
   ]
  },
  {
   "cell_type": "code",
   "execution_count": 32,
   "id": "598cc6a2",
   "metadata": {
    "scrolled": true
   },
   "outputs": [
    {
     "name": "stdout",
     "output_type": "stream",
     "text": [
      "Machine and Deep learning\b Hello\n",
      " We are learning File handling\n",
      " We are learning File handling\n",
      " We are learning File handling\n",
      " We are learning File handling\n",
      " We are learning File handling\n"
     ]
    }
   ],
   "source": [
    "f = open('sample1.txt','r')\n",
    "data = f.read()\n",
    "f.close()\n",
    "\n",
    "print(data)"
   ]
  },
  {
   "cell_type": "code",
   "execution_count": 33,
   "id": "24add32f",
   "metadata": {},
   "outputs": [
    {
     "name": "stdout",
     "output_type": "stream",
     "text": [
      "Hi,We are learning file handling\n"
     ]
    }
   ],
   "source": [
    "file_path = r'C:\\Users\\suchita.berde\\Suchita\\Personal\\Velocity_19 March 2022\\05_16_File_Handling\\test\\test1\\sample2.txt'\n",
    "f = open(file_path)\n",
    "data = f.read()\n",
    "f.close()\n",
    "print(data)"
   ]
  },
  {
   "cell_type": "markdown",
   "id": "ec8ebb97",
   "metadata": {},
   "source": [
    "# 3.2 readline()"
   ]
  },
  {
   "cell_type": "code",
   "execution_count": null,
   "id": "c3707deb",
   "metadata": {},
   "outputs": [],
   "source": [
    ">>readline() function reads a line of the file and return it in the form of the string"
   ]
  },
  {
   "cell_type": "code",
   "execution_count": 35,
   "id": "72412a8f",
   "metadata": {},
   "outputs": [
    {
     "name": "stdout",
     "output_type": "stream",
     "text": [
      "Line 1>> Data science is the domain of study that deals with vast volumes of data using modern tools and\n",
      "\n"
     ]
    }
   ],
   "source": [
    "f = open('data_science.txt')\n",
    "line1 = f.readline()\n",
    "f.close()\n",
    "\n",
    "print('Line 1>>', line1)"
   ]
  },
  {
   "cell_type": "code",
   "execution_count": 36,
   "id": "c2c1ba0c",
   "metadata": {},
   "outputs": [
    {
     "name": "stdout",
     "output_type": "stream",
     "text": [
      "Line 1>> Data science is the domain of study that deals with vast volumes of data using modern tools and\n",
      "\n",
      "Line 2>> techniques to find unseen patterns, derive meaningful information,\n",
      "\n",
      "Line 3>> and make business decisions. Data science uses complex machine learning algorithms to build predictive models.Data science is the domain of study that deals with vast volumes of data using modern tools and\n",
      "\n"
     ]
    }
   ],
   "source": [
    "f = open('data_science.txt')\n",
    "line1 = f.readline()\n",
    "line2 = f.readline()\n",
    "line3 = f.readline()\n",
    "f.close()\n",
    "\n",
    "print('Line 1>>', line1)\n",
    "print('Line 2>>', line2)\n",
    "print('Line 3>>', line3)"
   ]
  },
  {
   "cell_type": "code",
   "execution_count": 37,
   "id": "7c40959a",
   "metadata": {},
   "outputs": [
    {
     "name": "stdout",
     "output_type": "stream",
     "text": [
      "Line 1>> Data science is the domain of \n"
     ]
    }
   ],
   "source": [
    "f = open('data_science.txt')\n",
    "line1 = f.readline(30)\n",
    "f.close()\n",
    "\n",
    "print('Line 1>>', line1)"
   ]
  },
  {
   "cell_type": "code",
   "execution_count": 38,
   "id": "ada61738",
   "metadata": {
    "scrolled": true
   },
   "outputs": [
    {
     "name": "stdout",
     "output_type": "stream",
     "text": [
      "Line 1>> Data science is the domain of study that deals with vast volumes of data using modern tools and\n",
      "\n"
     ]
    }
   ],
   "source": [
    "f = open('data_science.txt')\n",
    "line1 = f.readline(200)\n",
    "f.close()\n",
    "\n",
    "print('Line 1>>', line1)"
   ]
  },
  {
   "cell_type": "markdown",
   "id": "1442a7ea",
   "metadata": {},
   "source": [
    "# 3.3 readlines()"
   ]
  },
  {
   "cell_type": "code",
   "execution_count": null,
   "id": "663974be",
   "metadata": {},
   "outputs": [],
   "source": [
    ">>Return a list of all lines"
   ]
  },
  {
   "cell_type": "code",
   "execution_count": 39,
   "id": "703edfb1",
   "metadata": {},
   "outputs": [
    {
     "name": "stdout",
     "output_type": "stream",
     "text": [
      "text_list>> ['Data science is the domain of study that deals with vast volumes of data using modern tools and\\n', 'techniques to find unseen patterns, derive meaningful information,\\n', 'and make business decisions. Data science uses complex machine learning algorithms to build predictive models.Data science is the domain of study that deals with vast volumes of data using modern tools and\\n', 'techniques to find unseen patterns, derive meaningful information,\\n', 'and make business decisions. Data science uses complex machine learning algorithms to build predictive models.The data used for analysis can come from many different sources and presented in various formats.\\n', ' The data used for analysis can come from many different sources and presented in various formats.\\n', ' ***************Data Science***********************\\n', ' hello\\n', ' hello\\n', ' hello\\n', ' hello\\n', ' hello\\n', ' ***************************************************\\n', ' ***************************************************\\n', ' ***************************************************\\n', '###################\\n', '###################\\n', '###################\\n', '###################\\n', ' *********************DS , ML, DL******************************']\n"
     ]
    }
   ],
   "source": [
    "f = open('data_science.txt')\n",
    "text_list = f.readlines()\n",
    "f.close()\n",
    "\n",
    "print('text_list>>', text_list)"
   ]
  },
  {
   "cell_type": "code",
   "execution_count": 40,
   "id": "4e82c75a",
   "metadata": {},
   "outputs": [
    {
     "name": "stdout",
     "output_type": "stream",
     "text": [
      "text_list>> ['Machine and Deep learning\\x08 Hello\\n', ' We are learning File handling\\n', ' We are learning File handling\\n', ' We are learning File handling\\n', ' We are learning File handling\\n', ' We are learning File handling']\n"
     ]
    }
   ],
   "source": [
    "f = open('sample1.txt')\n",
    "text_list = f.readlines()\n",
    "f.close()\n",
    "\n",
    "print('text_list>>', text_list)"
   ]
  },
  {
   "cell_type": "markdown",
   "id": "9f448d15",
   "metadata": {},
   "source": [
    "# with statement"
   ]
  },
  {
   "cell_type": "code",
   "execution_count": null,
   "id": "49d50bae",
   "metadata": {},
   "outputs": [],
   "source": [
    ">>With statement is used to avoid the close fucntion\n",
    "It will automically the close the file"
   ]
  },
  {
   "cell_type": "code",
   "execution_count": 41,
   "id": "f60b33a0",
   "metadata": {},
   "outputs": [],
   "source": [
    "f = open('test1.txt', 'w')\n",
    "f.write('*************')\n",
    "f.close()"
   ]
  },
  {
   "cell_type": "code",
   "execution_count": 42,
   "id": "84b2e899",
   "metadata": {},
   "outputs": [
    {
     "ename": "ValueError",
     "evalue": "I/O operation on closed file.",
     "output_type": "error",
     "traceback": [
      "\u001b[1;31m---------------------------------------------------------------------------\u001b[0m",
      "\u001b[1;31mValueError\u001b[0m                                Traceback (most recent call last)",
      "\u001b[1;32mC:\\Users\\SUCHIT~1.BER\\AppData\\Local\\Temp/ipykernel_70148/72009950.py\u001b[0m in \u001b[0;36m<module>\u001b[1;34m\u001b[0m\n\u001b[1;32m----> 1\u001b[1;33m \u001b[0mf\u001b[0m\u001b[1;33m.\u001b[0m\u001b[0mwrite\u001b[0m\u001b[1;33m(\u001b[0m\u001b[1;34m'\\nHello'\u001b[0m\u001b[1;33m)\u001b[0m\u001b[1;33m\u001b[0m\u001b[1;33m\u001b[0m\u001b[0m\n\u001b[0m",
      "\u001b[1;31mValueError\u001b[0m: I/O operation on closed file."
     ]
    }
   ],
   "source": [
    "f.write('\\nHello')"
   ]
  },
  {
   "cell_type": "code",
   "execution_count": 43,
   "id": "e1b04173",
   "metadata": {},
   "outputs": [],
   "source": [
    "with open('test2.txt','w') as f:\n",
    "    f.write('saafsfggfhbvbfgbsuhdnf jhikdkfijrijweenfdnfkdjfi')"
   ]
  },
  {
   "cell_type": "code",
   "execution_count": 44,
   "id": "eb731058",
   "metadata": {},
   "outputs": [],
   "source": [
    "with open('test3.txt','w') as f:\n",
    "    f.write('Now that you know what is data science, next up let us focus on the data science lifecycle. Data science’s lifecycle consists of five distinct stages, each with its own tasks:')"
   ]
  },
  {
   "cell_type": "markdown",
   "id": "8c98c1ae",
   "metadata": {},
   "source": [
    "# OCR"
   ]
  },
  {
   "cell_type": "code",
   "execution_count": null,
   "id": "99628a12",
   "metadata": {},
   "outputs": [],
   "source": [
    ">>Optical Character Recognition\n",
    ">>OCR is used to convert image to image\n",
    "\n",
    "PDF >> imgae >> text\n",
    "pdf2image\n",
    "\n",
    "1. Pytesseract\n",
    "2. Google Vision\n",
    "3. Amazon Textract"
   ]
  },
  {
   "cell_type": "code",
   "execution_count": null,
   "id": "160ecade",
   "metadata": {},
   "outputs": [],
   "source": [
    "https://digi.bib.uni-mannheim.de/tesseract/tesseract-ocr-w64-setup-v5.0.1.20220118.exe"
   ]
  },
  {
   "cell_type": "code",
   "execution_count": 48,
   "id": "c7e35a5b",
   "metadata": {
    "scrolled": true
   },
   "outputs": [],
   "source": [
    "import pytesseract"
   ]
  },
  {
   "cell_type": "code",
   "execution_count": 49,
   "id": "59da8e1e",
   "metadata": {
    "scrolled": true
   },
   "outputs": [
    {
     "name": "stdout",
     "output_type": "stream",
     "text": [
      "steer feat AR Wet\n",
      "INCOME TAX DEPARTMENT GOVT. OF Uhl\n",
      "MONIKA MAHADEV SHINDE\n",
      "\n",
      "MAHADEV SHINDE\n",
      "31/10/1992\n",
      "\n",
      "Permanent Account Number\n",
      "\n",
      "EJAPS0276M *\n",
      "MonuIkA 74 <sHINDE\n",
      "\n",
      "\n"
     ]
    }
   ],
   "source": [
    "pytesseract.pytesseract.tesseract_cmd = r'C:\\Users\\suchita.berde\\AppData\\Local\\Programs\\Tesseract-OCR\\tesseract.exe'\n",
    "\n",
    "text = pytesseract.image_to_string('pan2.jpeg') \n",
    "print(text)"
   ]
  },
  {
   "cell_type": "code",
   "execution_count": 50,
   "id": "8e7cbbcf",
   "metadata": {},
   "outputs": [],
   "source": [
    "with open('pan.txt','w') as f:\n",
    "    f.write(text)"
   ]
  }
 ],
 "metadata": {
  "kernelspec": {
   "display_name": "Python 3 (ipykernel)",
   "language": "python",
   "name": "python3"
  },
  "language_info": {
   "codemirror_mode": {
    "name": "ipython",
    "version": 3
   },
   "file_extension": ".py",
   "mimetype": "text/x-python",
   "name": "python",
   "nbconvert_exporter": "python",
   "pygments_lexer": "ipython3",
   "version": "3.11.4"
  }
 },
 "nbformat": 4,
 "nbformat_minor": 5
}
