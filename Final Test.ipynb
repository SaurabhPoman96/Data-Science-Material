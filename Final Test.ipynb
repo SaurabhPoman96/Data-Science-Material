{
 "cells": [
  {
   "cell_type": "code",
   "execution_count": 19,
   "id": "b30cc4a1",
   "metadata": {},
   "outputs": [
    {
     "name": "stdout",
     "output_type": "stream",
     "text": [
      "Enter number here : 43\n",
      "43 is prime number\n"
     ]
    }
   ],
   "source": [
    "# to check give number is prime or not\n",
    "\n",
    "a = int(input('Enter number here : '))\n",
    "for i in range (2,a):\n",
    "    b = a%i\n",
    "    if(a%i==0):\n",
    "        print(f'{a} is composite number')\n",
    "        break\n",
    "else:\n",
    "    print(f'{a} is prime number')"
   ]
  },
  {
   "cell_type": "code",
   "execution_count": 20,
   "id": "42302d85",
   "metadata": {},
   "outputs": [
    {
     "name": "stdout",
     "output_type": "stream",
     "text": [
      "Fibonacci series of 5 is  0 1 1 2 3 \n",
      "\n",
      "Fibonacci of 5 is 3\n"
     ]
    }
   ],
   "source": [
    "#Q.2. fibonacci series\n",
    "\n",
    "def fibonacci(num):\n",
    "    first  = 0\n",
    "    second = 1\n",
    "    print(f'Fibonacci series of {num} is ',first, second,end =' ')\n",
    "    for i in range(0,num-2):\n",
    "        new = first + second\n",
    "        first = second\n",
    "        second = new\n",
    "        print(new,end = ' ')\n",
    "    print('\\n')\n",
    "    print(f'Fibonacci of {num} is',new)        \n",
    "fibonacci(5)"
   ]
  },
  {
   "cell_type": "code",
   "execution_count": 34,
   "id": "8935b2fe",
   "metadata": {},
   "outputs": [
    {
     "name": "stdout",
     "output_type": "stream",
     "text": [
      "Enter value of x: 5\n",
      "Enter value of y: 10\n",
      "The value of x after swapping: 10\n",
      "The value of y after swapping: 5\n"
     ]
    }
   ],
   "source": [
    "# Q.3 Python program to swap two variables\n",
    "\n",
    "# To take inputs from the user\n",
    "x = input('Enter value of x: ')\n",
    "y = input('Enter value of y: ')\n",
    "\n",
    "# create a temporary variable and swap the values\n",
    "temp = x\n",
    "x = y\n",
    "y = temp\n",
    "\n",
    "print('The value of x after swapping: {}'.format(x))\n",
    "print('The value of y after swapping: {}'.format(y))\n"
   ]
  },
  {
   "cell_type": "code",
   "execution_count": 37,
   "id": "fda3e193",
   "metadata": {},
   "outputs": [
    {
     "name": "stdout",
     "output_type": "stream",
     "text": [
      "25\n",
      "square root of given number 25 is 5.0\n"
     ]
    }
   ],
   "source": [
    "# Q.4 Python program to square root of given number\n",
    "\n",
    "num = int(input())\n",
    "\n",
    "import numpy as np\n",
    "\n",
    "square_root = np.sqrt(num)\n",
    "\n",
    "print(f'square root of given number {num} is', square_root)"
   ]
  },
  {
   "cell_type": "code",
   "execution_count": 42,
   "id": "b4fee124",
   "metadata": {},
   "outputs": [
    {
     "data": {
      "text/plain": [
       "array([[0, 0, 0],\n",
       "       [0, 0, 0]])"
      ]
     },
     "execution_count": 42,
     "metadata": {},
     "output_type": "execute_result"
    }
   ],
   "source": [
    "# Q.5 Print zeroes with 2 rows & 3 columns\n",
    "\n",
    "zeros = np.zeros((2,3), dtype = int)\n",
    "zeros"
   ]
  },
  {
   "cell_type": "code",
   "execution_count": 44,
   "id": "680910f2",
   "metadata": {},
   "outputs": [
    {
     "data": {
      "text/html": [
       "<div>\n",
       "<style scoped>\n",
       "    .dataframe tbody tr th:only-of-type {\n",
       "        vertical-align: middle;\n",
       "    }\n",
       "\n",
       "    .dataframe tbody tr th {\n",
       "        vertical-align: top;\n",
       "    }\n",
       "\n",
       "    .dataframe thead th {\n",
       "        text-align: right;\n",
       "    }\n",
       "</style>\n",
       "<table border=\"1\" class=\"dataframe\">\n",
       "  <thead>\n",
       "    <tr style=\"text-align: right;\">\n",
       "      <th></th>\n",
       "      <th>0</th>\n",
       "      <th>1</th>\n",
       "      <th>2</th>\n",
       "      <th>3</th>\n",
       "      <th>4</th>\n",
       "      <th>5</th>\n",
       "    </tr>\n",
       "  </thead>\n",
       "  <tbody>\n",
       "    <tr>\n",
       "      <th>0</th>\n",
       "      <td>1</td>\n",
       "      <td>2</td>\n",
       "      <td>3</td>\n",
       "      <td>4</td>\n",
       "      <td>5</td>\n",
       "      <td>6</td>\n",
       "    </tr>\n",
       "    <tr>\n",
       "      <th>1</th>\n",
       "      <td>p</td>\n",
       "      <td>y</td>\n",
       "      <td>t</td>\n",
       "      <td>h</td>\n",
       "      <td>o</td>\n",
       "      <td>n</td>\n",
       "    </tr>\n",
       "  </tbody>\n",
       "</table>\n",
       "</div>"
      ],
      "text/plain": [
       "   0  1  2  3  4  5\n",
       "0  1  2  3  4  5  6\n",
       "1  p  y  t  h  o  n"
      ]
     },
     "execution_count": 44,
     "metadata": {},
     "output_type": "execute_result"
    }
   ],
   "source": [
    "# Q.6 Create pandas data frame using list of lists\n",
    "\n",
    "import pandas as pd\n",
    "\n",
    "listoflists = [[1,2,3,4,5,6],['p','y','t','h','o','n']]\n",
    "df = pd.DataFrame(listoflists)\n",
    "df"
   ]
  },
  {
   "cell_type": "code",
   "execution_count": null,
   "id": "4d5b6418",
   "metadata": {},
   "outputs": [],
   "source": []
  },
  {
   "cell_type": "code",
   "execution_count": null,
   "id": "8ecbf17c",
   "metadata": {},
   "outputs": [],
   "source": []
  },
  {
   "cell_type": "code",
   "execution_count": null,
   "id": "65dd66fa",
   "metadata": {},
   "outputs": [],
   "source": []
  },
  {
   "cell_type": "code",
   "execution_count": null,
   "id": "7a338403",
   "metadata": {},
   "outputs": [],
   "source": []
  },
  {
   "cell_type": "code",
   "execution_count": 24,
   "id": "aa182e0e",
   "metadata": {},
   "outputs": [
    {
     "name": "stdout",
     "output_type": "stream",
     "text": [
      "12\n",
      "24\n",
      "36\n",
      "48\n",
      "60\n"
     ]
    },
    {
     "data": {
      "text/plain": [
       "180"
      ]
     },
     "execution_count": 24,
     "metadata": {},
     "output_type": "execute_result"
    }
   ],
   "source": [
    "l1 = []\n",
    "for i in range(1,6):\n",
    "    i*=12\n",
    "    print(i)\n",
    "    l1.append(i)\n",
    "sum(l1)"
   ]
  },
  {
   "cell_type": "code",
   "execution_count": 26,
   "id": "ed5d5444",
   "metadata": {},
   "outputs": [
    {
     "data": {
      "text/plain": [
       "0.0625"
      ]
     },
     "execution_count": 26,
     "metadata": {},
     "output_type": "execute_result"
    }
   ],
   "source": [
    "0.25/4"
   ]
  },
  {
   "cell_type": "code",
   "execution_count": 27,
   "id": "f381d596",
   "metadata": {},
   "outputs": [
    {
     "data": {
      "text/plain": [
       "1.4953487812212205"
      ]
     },
     "execution_count": 27,
     "metadata": {},
     "output_type": "execute_result"
    }
   ],
   "source": [
    "625**0.0625"
   ]
  },
  {
   "cell_type": "code",
   "execution_count": 28,
   "id": "3a04b09f",
   "metadata": {},
   "outputs": [
    {
     "data": {
      "text/plain": [
       "4.179626906102637"
      ]
     },
     "execution_count": 28,
     "metadata": {},
     "output_type": "execute_result"
    }
   ],
   "source": [
    "5**1/4 * 125**0.25"
   ]
  },
  {
   "cell_type": "code",
   "execution_count": 29,
   "id": "19a6a4eb",
   "metadata": {},
   "outputs": [],
   "source": [
    "import numpy as np"
   ]
  },
  {
   "cell_type": "code",
   "execution_count": 31,
   "id": "5748c2d2",
   "metadata": {},
   "outputs": [
    {
     "data": {
      "text/plain": [
       "36.554802677473226"
      ]
     },
     "execution_count": 31,
     "metadata": {},
     "output_type": "execute_result"
    }
   ],
   "source": [
    "5**np.sqrt(5)"
   ]
  },
  {
   "cell_type": "code",
   "execution_count": 32,
   "id": "631ecbc4",
   "metadata": {},
   "outputs": [
    {
     "data": {
      "text/plain": [
       "3.34370152488211"
      ]
     },
     "execution_count": 32,
     "metadata": {},
     "output_type": "execute_result"
    }
   ],
   "source": [
    "125**0.25"
   ]
  },
  {
   "cell_type": "code",
   "execution_count": 33,
   "id": "539fc148",
   "metadata": {},
   "outputs": [
    {
     "data": {
      "text/plain": [
       "1.4953487812212205"
      ]
     },
     "execution_count": 33,
     "metadata": {},
     "output_type": "execute_result"
    }
   ],
   "source": [
    "5**0.25"
   ]
  },
  {
   "cell_type": "code",
   "execution_count": null,
   "id": "6a802303",
   "metadata": {},
   "outputs": [],
   "source": [
    "125**"
   ]
  }
 ],
 "metadata": {
  "kernelspec": {
   "display_name": "Python 3 (ipykernel)",
   "language": "python",
   "name": "python3"
  },
  "language_info": {
   "codemirror_mode": {
    "name": "ipython",
    "version": 3
   },
   "file_extension": ".py",
   "mimetype": "text/x-python",
   "name": "python",
   "nbconvert_exporter": "python",
   "pygments_lexer": "ipython3",
   "version": "3.11.4"
  }
 },
 "nbformat": 4,
 "nbformat_minor": 5
}
