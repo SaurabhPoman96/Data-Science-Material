{
 "cells": [
  {
   "cell_type": "code",
   "execution_count": 27,
   "id": "7e4ab9f1",
   "metadata": {},
   "outputs": [
    {
     "data": {
      "text/plain": [
       "[1, 2, 3, 4, 5, 6, 7, 8]"
      ]
     },
     "execution_count": 27,
     "metadata": {},
     "output_type": "execute_result"
    }
   ],
   "source": [
    "a = [1,2,3,4]\n",
    "\n",
    "b = [5,6,7,8]\n",
    "\n",
    "a+b"
   ]
  },
  {
   "cell_type": "code",
   "execution_count": 28,
   "id": "5dde24e4",
   "metadata": {},
   "outputs": [
    {
     "data": {
      "text/plain": [
       "[1, 2, 3, 4, 7]"
      ]
     },
     "execution_count": 28,
     "metadata": {},
     "output_type": "execute_result"
    }
   ],
   "source": [
    "a.append(7)\n",
    "a"
   ]
  },
  {
   "cell_type": "code",
   "execution_count": 30,
   "id": "9914742f",
   "metadata": {},
   "outputs": [
    {
     "data": {
      "text/plain": [
       "[1, 2, 3, 4, 7, [8, 9]]"
      ]
     },
     "execution_count": 30,
     "metadata": {},
     "output_type": "execute_result"
    }
   ],
   "source": [
    "a.append([8,9])\n",
    "a"
   ]
  },
  {
   "cell_type": "code",
   "execution_count": 26,
   "id": "0b16e2b2",
   "metadata": {},
   "outputs": [
    {
     "data": {
      "text/plain": [
       "[1, 2, 3, 4, [8, 9, 10, 11, 12, 13]]"
      ]
     },
     "execution_count": 26,
     "metadata": {},
     "output_type": "execute_result"
    }
   ],
   "source": [
    "a.append([8,9,10,11,12,13])\n",
    "a"
   ]
  },
  {
   "cell_type": "code",
   "execution_count": 4,
   "id": "526751f8",
   "metadata": {},
   "outputs": [
    {
     "name": "stdout",
     "output_type": "stream",
     "text": [
      "[1, 2, 3, 4, 5, 6, 7, 8]\n"
     ]
    }
   ],
   "source": [
    "c = print(a+b)"
   ]
  },
  {
   "cell_type": "code",
   "execution_count": null,
   "id": "23a0ca2b",
   "metadata": {},
   "outputs": [],
   "source": [
    "'''b = “Practice Questions of List in Python“\n",
    "            a=list(b)\n",
    "            1.          print(a)\n",
    "            2.          print(len(a))\n",
    "            3.          print(a[1:4])\n",
    "            4.          print(a[1:7])\n",
    "            5.          print(a[3:])\n",
    "            6.          print(a[:5])\n",
    "            7.          print(a[4:17])\n",
    "            8.          print(a[-2:-5:-1])\n",
    "            9.          print(a[1:7:1])\n",
    "            10.       print(a[1:7:2])\n",
    "            11.       print(a[-5:])\n",
    "            12.       print(a[:4])\n",
    "            13.       print(a[-2:-5:-2])\n",
    "            14.       print(a[11:15])\n",
    "            15.       print(a[:])\n",
    "            16.       print(a[::2])\n",
    "            17.       print(a[-5:-1])\n",
    "            18.       print(a[7:1:-1])\n",
    "            19.       print(a[3:-3])\n",
    "            20.       print(a[30:40])\n",
    "            21.       print(a[17:-1])\n",
    "            22.       print(a[10::-1])'''"
   ]
  },
  {
   "cell_type": "code",
   "execution_count": 7,
   "id": "60046aef",
   "metadata": {},
   "outputs": [
    {
     "name": "stdout",
     "output_type": "stream",
     "text": [
      "['P', 'r', 'a', 'c', 't', 'i', 'c', 'e', ' ', 'Q', 'u', 'e', 's', 't', 'i', 'o', 'n', 's', ' ', 'o', 'f', ' ', 'L', 'i', 's', 't', ' ', 'i', 'n', ' ', 'P', 'y', 't', 'h', 'o', 'n']\n"
     ]
    }
   ],
   "source": [
    "b = 'Practice Questions of List in Python'\n",
    "a=list(b)\n",
    "print(a)"
   ]
  },
  {
   "cell_type": "code",
   "execution_count": 8,
   "id": "61d6b34f",
   "metadata": {},
   "outputs": [
    {
     "data": {
      "text/plain": [
       "36"
      ]
     },
     "execution_count": 8,
     "metadata": {},
     "output_type": "execute_result"
    }
   ],
   "source": [
    "len(a)"
   ]
  },
  {
   "cell_type": "code",
   "execution_count": null,
   "id": "1d2e7677",
   "metadata": {},
   "outputs": [],
   "source": [
    "''' print(a[1:4])\n",
    "            4.          print(a[1:7])\n",
    "            5.          print(a[3:])\n",
    "            6.          print(a[:5])\n",
    "            7.          print(a[4:17])\n",
    "            8.          print(a[-2:-5:-1])\n",
    "            9.          print(a[1:7:1])'''"
   ]
  },
  {
   "cell_type": "code",
   "execution_count": 9,
   "id": "fc814229",
   "metadata": {},
   "outputs": [
    {
     "name": "stdout",
     "output_type": "stream",
     "text": [
      "['r', 'a', 'c', 't', 'i', 'c']\n"
     ]
    }
   ],
   "source": [
    "print(a[1:7])"
   ]
  },
  {
   "cell_type": "code",
   "execution_count": 10,
   "id": "a8e7df8c",
   "metadata": {},
   "outputs": [
    {
     "name": "stdout",
     "output_type": "stream",
     "text": [
      "['c', 't', 'i', 'c', 'e', ' ', 'Q', 'u', 'e', 's', 't', 'i', 'o', 'n', 's', ' ', 'o', 'f', ' ', 'L', 'i', 's', 't', ' ', 'i', 'n', ' ', 'P', 'y', 't', 'h', 'o', 'n']\n"
     ]
    }
   ],
   "source": [
    "print(a[3:])"
   ]
  },
  {
   "cell_type": "code",
   "execution_count": 11,
   "id": "01597249",
   "metadata": {},
   "outputs": [
    {
     "name": "stdout",
     "output_type": "stream",
     "text": [
      "['P', 'r', 'a', 'c', 't']\n"
     ]
    }
   ],
   "source": [
    "print(a[:5])"
   ]
  },
  {
   "cell_type": "code",
   "execution_count": 12,
   "id": "da882810",
   "metadata": {},
   "outputs": [
    {
     "name": "stdout",
     "output_type": "stream",
     "text": [
      "['o', 'h', 't']\n"
     ]
    }
   ],
   "source": [
    "print(a[-2:-5:-1])"
   ]
  },
  {
   "cell_type": "code",
   "execution_count": null,
   "id": "394ec342",
   "metadata": {},
   "outputs": [],
   "source": [
    "10.       print(a[1:7:2])\n",
    "            11.       print(a[-5:])\n",
    "            12.       print(a[:4])\n",
    "            13.       print(a[-2:-5:-2])\n",
    "            14.       print(a[11:15])\n",
    "            15.       print(a[:])\n",
    "            16.       print(a[::2])\n",
    "            17.       print(a[-5:-1])\n",
    "            18.       print(a[7:1:-1])\n",
    "            19.       print(a[3:-3])\n",
    "            20.       print(a[30:40])\n",
    "            21.       print(a[17:-1])\n",
    "            22.       print(a[10::-1])'''"
   ]
  },
  {
   "cell_type": "code",
   "execution_count": 13,
   "id": "c9a4df96",
   "metadata": {},
   "outputs": [
    {
     "name": "stdout",
     "output_type": "stream",
     "text": [
      "['y', 't', 'h', 'o', 'n']\n"
     ]
    }
   ],
   "source": [
    " print(a[-5:])"
   ]
  },
  {
   "cell_type": "code",
   "execution_count": 14,
   "id": "6b2cc1b2",
   "metadata": {},
   "outputs": [
    {
     "name": "stdout",
     "output_type": "stream",
     "text": [
      "['o', 't']\n"
     ]
    }
   ],
   "source": [
    " print(a[-2:-5:-2])"
   ]
  },
  {
   "cell_type": "code",
   "execution_count": 15,
   "id": "cb8d1ffe",
   "metadata": {},
   "outputs": [
    {
     "name": "stdout",
     "output_type": "stream",
     "text": [
      "['P', 'y', 't', 'h', 'o', 'n']\n"
     ]
    }
   ],
   "source": [
    " print(a[30:40])"
   ]
  },
  {
   "cell_type": "code",
   "execution_count": 16,
   "id": "1a122f14",
   "metadata": {},
   "outputs": [
    {
     "name": "stdout",
     "output_type": "stream",
     "text": [
      "['u', 'Q', ' ', 'e', 'c', 'i', 't', 'c', 'a', 'r', 'P']\n"
     ]
    }
   ],
   "source": [
    "print(a[10::-1])"
   ]
  },
  {
   "cell_type": "code",
   "execution_count": null,
   "id": "795f7cb2",
   "metadata": {},
   "outputs": [],
   "source": [
    "''' Write a program to accept 10 numbers from the user, if the number is odd, and then add that number to the list.\n",
    "\n",
    "(input numbers are : 1,2,3,4,5,6,7,8,9,10\n",
    "\n",
    "L = [1, 3, 5, 7, 9])'''"
   ]
  },
  {
   "cell_type": "code",
   "execution_count": 50,
   "id": "0dad6801",
   "metadata": {
    "scrolled": true
   },
   "outputs": [
    {
     "name": "stdout",
     "output_type": "stream",
     "text": [
      "Enter numbers here :  1\n",
      "Enter numbers here :  2\n",
      "Enter numbers here :  3\n",
      "Enter numbers here :  4\n",
      "Enter numbers here :  5\n",
      "Enter numbers here :  6\n",
      "Enter numbers here :  7\n",
      "Enter numbers here :  8\n",
      "Enter numbers here :  9\n",
      "Enter numbers here :  10\n",
      "Enter numbers here :  11\n",
      "Output list is given as :  []\n"
     ]
    }
   ],
   "source": [
    "for i in range(11):\n",
    "    nums = int(input('Enter numbers here :  '))\n",
    "\n",
    "if nums%2!=0:\n",
    "    list1 = list(range(1,nums))\n",
    "    print('Output list is given as : ',list1)\n",
    "if nums%2==0:\n",
    "    print(f'The {nums} cannot be added')"
   ]
  },
  {
   "cell_type": "code",
   "execution_count": 3,
   "id": "6c61d44b",
   "metadata": {},
   "outputs": [
    {
     "name": "stdout",
     "output_type": "stream",
     "text": [
      "67\n"
     ]
    }
   ],
   "source": [
    "A = [23, 12, 45, 67, 55]\n",
    "maxi=A[0]\n",
    "for i in range(len(A)):\n",
    "    if A[i]>maxi:\n",
    "        maxi=A[i]\n",
    "print(maxi)"
   ]
  },
  {
   "cell_type": "code",
   "execution_count": 54,
   "id": "fdeff9e8",
   "metadata": {},
   "outputs": [
    {
     "data": {
      "text/plain": [
       "5"
      ]
     },
     "execution_count": 54,
     "metadata": {},
     "output_type": "execute_result"
    }
   ],
   "source": [
    "A = [23, 12, 45, 67, 55]\n",
    "len(A)"
   ]
  },
  {
   "cell_type": "code",
   "execution_count": 64,
   "id": "2875379d",
   "metadata": {},
   "outputs": [
    {
     "name": "stdout",
     "output_type": "stream",
     "text": [
      "23\n",
      "45\n",
      "67\n",
      "(****************)\n",
      "67\n"
     ]
    }
   ],
   "source": [
    "A = [8, 23, 12, 45, 67, 55]\n",
    "maxi=A[0]\n",
    "for i in range(len(A)):\n",
    "    if A[i]>maxi:\n",
    "        maxi=A[i]\n",
    "        print(maxi)\n",
    "\n",
    "print('(****************)')       \n",
    "print(maxi)\n"
   ]
  },
  {
   "cell_type": "code",
   "execution_count": 55,
   "id": "286dff93",
   "metadata": {},
   "outputs": [
    {
     "name": "stdout",
     "output_type": "stream",
     "text": [
      "0\n",
      "1\n",
      "2\n",
      "3\n",
      "4\n"
     ]
    }
   ],
   "source": [
    "A = [23, 12, 45, 67, 55]\n",
    "for i in range(len(A)):\n",
    "    print(i) # Range always starts from zero 0\n",
    "\n"
   ]
  },
  {
   "cell_type": "code",
   "execution_count": 34,
   "id": "a0e5c16c",
   "metadata": {},
   "outputs": [
    {
     "name": "stdout",
     "output_type": "stream",
     "text": [
      "Enter any number5\n",
      "Enter any number6\n",
      "Enter any number5\n",
      "Enter any number5\n",
      "Enter any number5\n",
      "Enter any number5\n",
      "Enter any number5\n",
      "Enter any number5\n",
      "Enter any number5\n",
      "Enter any number5\n",
      "[5]\n"
     ]
    }
   ],
   "source": [
    "a = []\n",
    "for i in range(10):\n",
    "     num=int(input(\"Enter any number\"))\n",
    "        \n",
    "if(num%2!=0): a.append(num)\n",
    "print(a)"
   ]
  },
  {
   "cell_type": "code",
   "execution_count": 40,
   "id": "27f3f406",
   "metadata": {},
   "outputs": [
    {
     "data": {
      "text/plain": [
       "[1, 2, 3, 4, 5, 6, 7, 8, 9, 10]"
      ]
     },
     "execution_count": 40,
     "metadata": {},
     "output_type": "execute_result"
    }
   ],
   "source": [
    "a=[]\n",
    "a=list(range(1,11))\n",
    "a"
   ]
  },
  {
   "cell_type": "code",
   "execution_count": 37,
   "id": "4423f03b",
   "metadata": {},
   "outputs": [
    {
     "name": "stdout",
     "output_type": "stream",
     "text": [
      "Enter any number1\n",
      "Enter any number2\n",
      "Enter any number3\n",
      "Enter any number4\n",
      "Enter any number5\n",
      "Enter any number6\n",
      "Enter any number7\n",
      "Enter any number8\n",
      "Enter any number9\n",
      "Enter any number10\n",
      "[]\n"
     ]
    }
   ],
   "source": [
    "a = []\n",
    "for i in range(10):\n",
    "     num=int(input(\"Enter any number\"))\n",
    "        \n",
    "if(num%2!=0):\n",
    "    a=(range(1,num))\n",
    "print(a)"
   ]
  },
  {
   "cell_type": "code",
   "execution_count": 66,
   "id": "e35b4e20",
   "metadata": {},
   "outputs": [
    {
     "name": "stdout",
     "output_type": "stream",
     "text": [
      "6\n",
      "9\n",
      "8\n",
      "[1, 2, 3, 4, 5, 7]\n"
     ]
    }
   ],
   "source": [
    "a = [1, 2, 3, 4, 5, 6, 7, 8, 9]\n",
    "b = a.pop(5)\n",
    "c = a.pop()\n",
    "d = a.pop(-1)\n",
    "print(b)\n",
    "print(c)\n",
    "print(d)\n",
    "print(a)"
   ]
  },
  {
   "cell_type": "code",
   "execution_count": null,
   "id": "098e032d",
   "metadata": {},
   "outputs": [],
   "source": []
  }
 ],
 "metadata": {
  "kernelspec": {
   "display_name": "Python 3 (ipykernel)",
   "language": "python",
   "name": "python3"
  },
  "language_info": {
   "codemirror_mode": {
    "name": "ipython",
    "version": 3
   },
   "file_extension": ".py",
   "mimetype": "text/x-python",
   "name": "python",
   "nbconvert_exporter": "python",
   "pygments_lexer": "ipython3",
   "version": "3.10.5"
  }
 },
 "nbformat": 4,
 "nbformat_minor": 5
}
