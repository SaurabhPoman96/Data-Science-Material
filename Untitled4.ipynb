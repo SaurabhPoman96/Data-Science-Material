{
 "cells": [
  {
   "cell_type": "code",
   "execution_count": null,
   "id": "cea8ddd0",
   "metadata": {},
   "outputs": [],
   "source": [
    "The Python while loop allows a part of the code to be executed until the given condition returns false. It is also known as a pre-tested loop.\n",
    "\n",
    "It can be viewed as a repeating if statement. When we don't know the number of iterations then the while loop is most effective to use."
   ]
  }
 ],
 "metadata": {
  "kernelspec": {
   "display_name": "Python 3 (ipykernel)",
   "language": "python",
   "name": "python3"
  },
  "language_info": {
   "codemirror_mode": {
    "name": "ipython",
    "version": 3
   },
   "file_extension": ".py",
   "mimetype": "text/x-python",
   "name": "python",
   "nbconvert_exporter": "python",
   "pygments_lexer": "ipython3",
   "version": "3.10.3"
  }
 },
 "nbformat": 4,
 "nbformat_minor": 5
}
