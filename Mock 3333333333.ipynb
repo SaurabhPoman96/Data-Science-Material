{
 "cells": [
  {
   "cell_type": "code",
   "execution_count": 1,
   "id": "1ade99cd",
   "metadata": {},
   "outputs": [],
   "source": [
    "sample_dict = {\n",
    "    'emp1': {'name': 'Jhon', 'salary': 7500},\n",
    "    'emp2': {'name': 'Emma', 'salary': 8000},\n",
    "    'emp3': {'name': 'Brad', 'salary': 500}}"
   ]
  },
  {
   "cell_type": "code",
   "execution_count": 6,
   "id": "22514663",
   "metadata": {},
   "outputs": [
    {
     "data": {
      "text/plain": [
       "{'emp1': {'name': 'Jhon', 'salary': 7500},\n",
       " 'emp2': {'name': 'Emma', 'salary': 8000},\n",
       " 'emp3': {'name': ('SAURABH', 'POMAN'), 'salary': 500}}"
      ]
     },
     "execution_count": 6,
     "metadata": {},
     "output_type": "execute_result"
    }
   ],
   "source": [
    "sample_dict['emp3']['name']= 'SAURABH','POMAN'\n",
    "sample_dict"
   ]
  },
  {
   "cell_type": "code",
   "execution_count": 11,
   "id": "aec82ddd",
   "metadata": {},
   "outputs": [
    {
     "name": "stdout",
     "output_type": "stream",
     "text": [
      "199\n",
      "*************\n"
     ]
    },
    {
     "data": {
      "text/plain": [
       "199"
      ]
     },
     "execution_count": 11,
     "metadata": {},
     "output_type": "execute_result"
    }
   ],
   "source": [
    "list1 = [10,20,40,32,45,6,7,3,2,1,3,10,20]\n",
    "sume = 0\n",
    "for i in list1:\n",
    "    sume+=i\n",
    "print(sume)\n",
    "print('*************')\n",
    "sum(list1)"
   ]
  },
  {
   "cell_type": "code",
   "execution_count": 3,
   "id": "1974043e",
   "metadata": {},
   "outputs": [
    {
     "name": "stdout",
     "output_type": "stream",
     "text": [
      "{32, 1, 2, 3, 6, 7, 40, 10, 45, 20} 10\n",
      "<class 'set'>\n"
     ]
    }
   ],
   "source": [
    "set1 = set(list1)\n",
    "print(set1, len(set1))\n",
    "print(type(set1))"
   ]
  },
  {
   "cell_type": "code",
   "execution_count": 21,
   "id": "4b37d159",
   "metadata": {},
   "outputs": [
    {
     "name": "stdout",
     "output_type": "stream",
     "text": [
      "{32, 1, 2, 3, 6, 7, 40, 10, 45, 20}\n"
     ]
    }
   ],
   "source": [
    "list1 = [10,20,40,32,45,6,7,3,2,1,3,10,20]\n",
    "x=set(list1)\n",
    "print(x)"
   ]
  },
  {
   "cell_type": "code",
   "execution_count": 14,
   "id": "f09f6fe8",
   "metadata": {},
   "outputs": [
    {
     "data": {
      "text/plain": [
       "{1, 2, 3, 6, 7, 10, 20, 32, 40, 45}"
      ]
     },
     "execution_count": 14,
     "metadata": {},
     "output_type": "execute_result"
    }
   ],
   "source": [
    "list1 = {10,20,40,32,45,6,7,3,2,1,3,10,20}\n",
    "list1"
   ]
  },
  {
   "cell_type": "code",
   "execution_count": 5,
   "id": "96daebc5",
   "metadata": {},
   "outputs": [
    {
     "name": "stdout",
     "output_type": "stream",
     "text": [
      "199\n",
      "$$$$$$$$$$$\n"
     ]
    },
    {
     "data": {
      "text/plain": [
       "199"
      ]
     },
     "execution_count": 5,
     "metadata": {},
     "output_type": "execute_result"
    }
   ],
   "source": [
    "list1 = [10,20,40,32,45,6,7,3,2,1,3,10,20]\n",
    "sum1 = 0\n",
    "for items in list1:\n",
    "    sum1+=items\n",
    "print(sum1)\n",
    "print('$$$$$$$$$$$')\n",
    "sum(list1)\n"
   ]
  },
  {
   "cell_type": "code",
   "execution_count": 9,
   "id": "45417f1d",
   "metadata": {},
   "outputs": [
    {
     "data": {
      "text/plain": [
       "{2, 4, 6, 8}"
      ]
     },
     "execution_count": 9,
     "metadata": {},
     "output_type": "execute_result"
    }
   ],
   "source": [
    "set2 = {1,2,3,4,5,6,7,8}\n",
    "set3 = {2,4,6,8,10}\n",
    "set2.intersection(set3)"
   ]
  },
  {
   "cell_type": "code",
   "execution_count": 10,
   "id": "585ea93c",
   "metadata": {},
   "outputs": [
    {
     "data": {
      "text/plain": [
       "{1, 3, 5, 7, 10}"
      ]
     },
     "execution_count": 10,
     "metadata": {},
     "output_type": "execute_result"
    }
   ],
   "source": [
    "set2.symmetric_difference(set3)"
   ]
  },
  {
   "cell_type": "code",
   "execution_count": null,
   "id": "2a9e4024",
   "metadata": {},
   "outputs": [],
   "source": []
  }
 ],
 "metadata": {
  "kernelspec": {
   "display_name": "Python 3 (ipykernel)",
   "language": "python",
   "name": "python3"
  },
  "language_info": {
   "codemirror_mode": {
    "name": "ipython",
    "version": 3
   },
   "file_extension": ".py",
   "mimetype": "text/x-python",
   "name": "python",
   "nbconvert_exporter": "python",
   "pygments_lexer": "ipython3",
   "version": "3.11.4"
  }
 },
 "nbformat": 4,
 "nbformat_minor": 5
}
