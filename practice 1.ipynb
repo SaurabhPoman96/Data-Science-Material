{
 "cells": [
  {
   "cell_type": "code",
   "execution_count": 1,
   "id": "a2cd9ced",
   "metadata": {},
   "outputs": [],
   "source": [
    "x = open('file11.txt','w')\n",
    "x.write('a formal presentation of one person to another, in which each is told the other\\'s name.')\n",
    "x.close()"
   ]
  },
  {
   "cell_type": "code",
   "execution_count": 2,
   "id": "c62ee200",
   "metadata": {},
   "outputs": [],
   "source": [
    "y = open('file22.txt','x')\n",
    "y.write(\"issues arising from the introduction of new technology\" )\n",
    "y.close()"
   ]
  },
  {
   "cell_type": "code",
   "execution_count": 3,
   "id": "47561ec2",
   "metadata": {},
   "outputs": [],
   "source": [
    "y = open('file22.txt','a')\n",
    "y.write(\"\\nhe returned to his desk, leaving Michael to make the introductions\" )\n",
    "y.write(\"\\n######################################################\" )\n",
    "y.write(\"\\n@@@@@@@@@@@@@@@@@@@@@@@@@@@@@@@@@@@2ntroductions\" )\n",
    "y.close()"
   ]
  },
  {
   "cell_type": "code",
   "execution_count": 4,
   "id": "8e16611f",
   "metadata": {},
   "outputs": [],
   "source": [
    "s = open('file33.txt','w')\n",
    "s.write('a formal presentation of one person to another, in which each is told the other\\'s name.')\n",
    "s.close()"
   ]
  },
  {
   "cell_type": "code",
   "execution_count": 5,
   "id": "d380d17c",
   "metadata": {},
   "outputs": [],
   "source": [
    "s = open('file33.txt','w')\n",
    "s.write('\\n 55555555555544444444444444666666666is told the other\\'s name.')\n",
    "s.close()"
   ]
  },
  {
   "cell_type": "code",
   "execution_count": 6,
   "id": "7f7d5395",
   "metadata": {},
   "outputs": [],
   "source": [
    "y = open('file22.txt','r')\n",
    "data1=y.read()\n",
    "y.close()"
   ]
  },
  {
   "cell_type": "code",
   "execution_count": 7,
   "id": "bfd861fb",
   "metadata": {},
   "outputs": [
    {
     "data": {
      "text/plain": [
       "'issues arising from the introduction of new technology\\nhe returned to his desk, leaving Michael to make the introductions\\n######################################################\\n@@@@@@@@@@@@@@@@@@@@@@@@@@@@@@@@@@@2ntroductions'"
      ]
     },
     "execution_count": 7,
     "metadata": {},
     "output_type": "execute_result"
    }
   ],
   "source": [
    "data1"
   ]
  },
  {
   "cell_type": "code",
   "execution_count": 9,
   "id": "20df9326",
   "metadata": {},
   "outputs": [
    {
     "name": "stdout",
     "output_type": "stream",
     "text": [
      "issues arising from the introduction of new technology\n",
      "he returned to his desk, leaving Michael to make the introductions\n",
      "######################################################\n",
      "@@@@@@@@@@@@@@@@@@@@@@@@@@@@@@@@@@@2ntroductions\n"
     ]
    }
   ],
   "source": [
    "f = open('file22.txt','r')\n",
    "data = f.read()\n",
    "f.close()\n",
    "\n",
    "print(data)"
   ]
  },
  {
   "cell_type": "code",
   "execution_count": 27,
   "id": "30aff947",
   "metadata": {},
   "outputs": [
    {
     "name": "stdout",
     "output_type": "stream",
     "text": [
      "line\n",
      " Data science is the domain of study that deals with vast volumes of data using modern tools and\n",
      " techniques to find unseen patterns, derive meaningful information,\n",
      " and make business decisions. Data science uses complex machine learning algorithms to build predictive models.Data science is the domain of study that deals with vast volumes of data using modern tools and\n",
      " ['techniques to find unseen patterns, derive meaningful information,\\n', 'and make business decisions. Data science uses complex machine learning algorithms to build predictive models.']\n"
     ]
    }
   ],
   "source": [
    "f = open('data_science.txt','r')\n",
    "data = f.readline()\n",
    "data1 = f.readline()\n",
    "data11 = f.readline()\n",
    "data111 = f.readlines()\n",
    "\n",
    "f.close()\n",
    "\n",
    "print('line\\n', data,data1,data11,data111)"
   ]
  },
  {
   "cell_type": "code",
   "execution_count": 22,
   "id": "f29954f7",
   "metadata": {},
   "outputs": [
    {
     "name": "stdout",
     "output_type": "stream",
     "text": [
      "['Data science is the domain of study that deals with vast volumes of data using modern tools and\\n', 'techniques to find unseen patterns, derive meaningful information,\\n', 'and make business decisions. Data science uses complex machine learning algorithms to build predictive models.Data science is the domain of study that deals with vast volumes of data using modern tools and\\n', 'techniques to find unseen patterns, derive meaningful information,\\n', 'and make business decisions. Data science uses complex machine learning algorithms to build predictive models.']\n"
     ]
    }
   ],
   "source": [
    "f = open('data_science.txt','r')\n",
    "data = f.readlines()\n",
    "f.close()\n",
    "\n",
    "print(data)"
   ]
  },
  {
   "cell_type": "code",
   "execution_count": 40,
   "id": "999fe9e7",
   "metadata": {},
   "outputs": [
    {
     "name": "stdout",
     "output_type": "stream",
     "text": [
      "\n"
     ]
    }
   ],
   "source": [
    "y = open('file2.txt','r+')\n",
    "c=y.write('\\n \\n machine learning a89797464613213lgorithms\\n \\n')\n",
    "c=y.write('\\n \\ndomain of s55555556555555555566666666666666666666666666666666666666666tudy that deals with vast vs\\n \\n')\n",
    "p=y.read()\n",
    "y.close()\n",
    "print(p)"
   ]
  },
  {
   "cell_type": "code",
   "execution_count": 37,
   "id": "ef8d5d90",
   "metadata": {},
   "outputs": [
    {
     "name": "stdout",
     "output_type": "stream",
     "text": [
      "\n"
     ]
    }
   ],
   "source": [
    "print(p)"
   ]
  },
  {
   "cell_type": "code",
   "execution_count": 1,
   "id": "c2350e3d",
   "metadata": {},
   "outputs": [],
   "source": [
    "with open('file2.txt','r') as x:\n",
    "    dst = x.read()"
   ]
  },
  {
   "cell_type": "code",
   "execution_count": 2,
   "id": "48deb74f",
   "metadata": {},
   "outputs": [
    {
     "name": "stdout",
     "output_type": "stream",
     "text": [
      "\n",
      " \n",
      " machine learning a89797464613213lgorithms\n",
      " \n",
      "\n",
      " \n",
      "domain of s55555556555555555566666666666666666666666666666666666666666tudy that deals with vast vs\n",
      " \n",
      "\n"
     ]
    }
   ],
   "source": [
    "print(dst)"
   ]
  },
  {
   "cell_type": "code",
   "execution_count": 11,
   "id": "d94b4847",
   "metadata": {},
   "outputs": [
    {
     "ename": "FileExistsError",
     "evalue": "[Errno 17] File exists: 'file11.txt'",
     "output_type": "error",
     "traceback": [
      "\u001b[1;31m---------------------------------------------------------------------------\u001b[0m",
      "\u001b[1;31mFileExistsError\u001b[0m                           Traceback (most recent call last)",
      "Cell \u001b[1;32mIn[11], line 1\u001b[0m\n\u001b[1;32m----> 1\u001b[0m \u001b[38;5;28;01mwith\u001b[39;00m \u001b[38;5;28;43mopen\u001b[39;49m\u001b[43m(\u001b[49m\u001b[38;5;124;43m'\u001b[39;49m\u001b[38;5;124;43mfile11.txt\u001b[39;49m\u001b[38;5;124;43m'\u001b[39;49m\u001b[43m,\u001b[49m\u001b[38;5;124;43m'\u001b[39;49m\u001b[38;5;124;43mx\u001b[39;49m\u001b[38;5;124;43m'\u001b[39;49m\u001b[43m)\u001b[49m \u001b[38;5;28;01mas\u001b[39;00m d:\n\u001b[0;32m      2\u001b[0m     d\u001b[38;5;241m.\u001b[39mwrite(\u001b[38;5;124m'\u001b[39m\u001b[38;5;124mss decisions. Data science uses complex machine learning algorithms \u001b[39m\u001b[38;5;124m'\u001b[39m)\n",
      "File \u001b[1;32m~\\AppData\\Local\\Programs\\Python\\Python311\\Lib\\site-packages\\IPython\\core\\interactiveshell.py:284\u001b[0m, in \u001b[0;36m_modified_open\u001b[1;34m(file, *args, **kwargs)\u001b[0m\n\u001b[0;32m    277\u001b[0m \u001b[38;5;28;01mif\u001b[39;00m file \u001b[38;5;129;01min\u001b[39;00m {\u001b[38;5;241m0\u001b[39m, \u001b[38;5;241m1\u001b[39m, \u001b[38;5;241m2\u001b[39m}:\n\u001b[0;32m    278\u001b[0m     \u001b[38;5;28;01mraise\u001b[39;00m \u001b[38;5;167;01mValueError\u001b[39;00m(\n\u001b[0;32m    279\u001b[0m         \u001b[38;5;124mf\u001b[39m\u001b[38;5;124m\"\u001b[39m\u001b[38;5;124mIPython won\u001b[39m\u001b[38;5;124m'\u001b[39m\u001b[38;5;124mt let you open fd=\u001b[39m\u001b[38;5;132;01m{\u001b[39;00mfile\u001b[38;5;132;01m}\u001b[39;00m\u001b[38;5;124m by default \u001b[39m\u001b[38;5;124m\"\u001b[39m\n\u001b[0;32m    280\u001b[0m         \u001b[38;5;124m\"\u001b[39m\u001b[38;5;124mas it is likely to crash IPython. If you know what you are doing, \u001b[39m\u001b[38;5;124m\"\u001b[39m\n\u001b[0;32m    281\u001b[0m         \u001b[38;5;124m\"\u001b[39m\u001b[38;5;124myou can use builtins\u001b[39m\u001b[38;5;124m'\u001b[39m\u001b[38;5;124m open.\u001b[39m\u001b[38;5;124m\"\u001b[39m\n\u001b[0;32m    282\u001b[0m     )\n\u001b[1;32m--> 284\u001b[0m \u001b[38;5;28;01mreturn\u001b[39;00m \u001b[43mio_open\u001b[49m\u001b[43m(\u001b[49m\u001b[43mfile\u001b[49m\u001b[43m,\u001b[49m\u001b[43m \u001b[49m\u001b[38;5;241;43m*\u001b[39;49m\u001b[43margs\u001b[49m\u001b[43m,\u001b[49m\u001b[43m \u001b[49m\u001b[38;5;241;43m*\u001b[39;49m\u001b[38;5;241;43m*\u001b[39;49m\u001b[43mkwargs\u001b[49m\u001b[43m)\u001b[49m\n",
      "\u001b[1;31mFileExistsError\u001b[0m: [Errno 17] File exists: 'file11.txt'"
     ]
    }
   ],
   "source": [
    "with open('file11.txt','x') as d:\n",
    "    d.write('ss decisions. Data science uses complex machine learning algorithms ')\n",
    "    "
   ]
  },
  {
   "cell_type": "code",
   "execution_count": 5,
   "id": "08eef688",
   "metadata": {},
   "outputs": [],
   "source": [
    "with open('file1.txt','a') as d:\n",
    "    d.write(' \\n \\n \\n machine learning a89797464613213lgorithmsthms ')\n"
   ]
  }
 ],
 "metadata": {
  "kernelspec": {
   "display_name": "Python 3 (ipykernel)",
   "language": "python",
   "name": "python3"
  },
  "language_info": {
   "codemirror_mode": {
    "name": "ipython",
    "version": 3
   },
   "file_extension": ".py",
   "mimetype": "text/x-python",
   "name": "python",
   "nbconvert_exporter": "python",
   "pygments_lexer": "ipython3",
   "version": "3.11.4"
  }
 },
 "nbformat": 4,
 "nbformat_minor": 5
}
