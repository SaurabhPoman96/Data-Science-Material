{
 "cells": [
  {
   "cell_type": "code",
   "execution_count": 1,
   "id": "589bd6ea",
   "metadata": {},
   "outputs": [
    {
     "name": "stdout",
     "output_type": "stream",
     "text": [
      "['saurabh', 'poman']\n",
      "[1, 56, 48, 9]\n"
     ]
    }
   ],
   "source": [
    "list1 = [1,56,48,9,'saurabh','poman']\n",
    "intlist = []\n",
    "strlist = []\n",
    "\n",
    "for items in list1:\n",
    "    if type(items)==int:\n",
    "        intlist.append(items)\n",
    "    elif type(items)==str:\n",
    "        strlist.append(items)\n",
    "        \n",
    "print(strlist)\n",
    "print(intlist)"
   ]
  },
  {
   "cell_type": "code",
   "execution_count": 4,
   "id": "ff8bc28b",
   "metadata": {},
   "outputs": [
    {
     "data": {
      "text/plain": [
       "8"
      ]
     },
     "execution_count": 4,
     "metadata": {},
     "output_type": "execute_result"
    }
   ],
   "source": [
    "list2 = 'saurabh subhash poman'\n",
    "list2.index('saurabh')\n",
    "\n",
    "list2.index('subhash')\n",
    "\n",
    "\n"
   ]
  },
  {
   "cell_type": "code",
   "execution_count": 5,
   "id": "815886fa",
   "metadata": {},
   "outputs": [
    {
     "data": {
      "text/plain": [
       "'p'"
      ]
     },
     "execution_count": 5,
     "metadata": {},
     "output_type": "execute_result"
    }
   ],
   "source": [
    "list2[0]\n",
    "list2[8]\n",
    "list2[16]"
   ]
  },
  {
   "cell_type": "code",
   "execution_count": null,
   "id": "85368871",
   "metadata": {},
   "outputs": [],
   "source": []
  }
 ],
 "metadata": {
  "kernelspec": {
   "display_name": "Python 3 (ipykernel)",
   "language": "python",
   "name": "python3"
  },
  "language_info": {
   "codemirror_mode": {
    "name": "ipython",
    "version": 3
   },
   "file_extension": ".py",
   "mimetype": "text/x-python",
   "name": "python",
   "nbconvert_exporter": "python",
   "pygments_lexer": "ipython3",
   "version": "3.10.5"
  }
 },
 "nbformat": 4,
 "nbformat_minor": 5
}
